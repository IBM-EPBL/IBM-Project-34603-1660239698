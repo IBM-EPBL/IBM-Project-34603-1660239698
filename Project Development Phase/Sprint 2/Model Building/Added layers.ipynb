{
 "cells": [
  {
   "cell_type": "markdown",
   "id": "5615473d",
   "metadata": {},
   "source": [
    "# Added in the code for building model itself\n"
   ]
  },
  {
   "cell_type": "code",
   "execution_count": 1,
   "id": "37e530c1",
   "metadata": {},
   "outputs": [],
   "source": [
    "from tensorflow.keras.models import Sequential\n",
    "from tensorflow.keras.layers import Dense,Convolution2D,MaxPooling2D,Flatten"
   ]
  },
  {
   "cell_type": "code",
   "execution_count": null,
   "id": "57f9a64c",
   "metadata": {},
   "outputs": [],
   "source": []
  }
 ],
 "metadata": {
  "kernelspec": {
   "display_name": "Python 3 (ipykernel)",
   "language": "python",
   "name": "python3"
  },
  "language_info": {
   "codemirror_mode": {
    "name": "ipython",
    "version": 3
   },
   "file_extension": ".py",
   "mimetype": "text/x-python",
   "name": "python",
   "nbconvert_exporter": "python",
   "pygments_lexer": "ipython3",
   "version": "3.9.12"
  }
 },
 "nbformat": 4,
 "nbformat_minor": 5
}
